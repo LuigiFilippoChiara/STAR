{
 "cells": [
  {
   "cell_type": "markdown",
   "metadata": {},
   "source": [
    "# Play with find_trajectory_fragment"
   ]
  },
  {
   "cell_type": "code",
   "execution_count": 1,
   "metadata": {},
   "outputs": [],
   "source": [
    "import os\n",
    "import pickle\n",
    "import random\n",
    "import time\n",
    "import numpy as np\n",
    "import torch"
   ]
  },
  {
   "cell_type": "code",
   "execution_count": 231,
   "metadata": {},
   "outputs": [],
   "source": [
    "DATASET_NAME_TO_NUM = {\n",
    "    'eth': 0,\n",
    "    'hotel': 1,\n",
    "    'zara1': 2,\n",
    "    'zara2': 3,\n",
    "    'univ': 4\n",
    "}\n",
    "\n",
    "class Object(object):\n",
    "    pass\n",
    "\n",
    "args = Object()\n",
    "args.dataset = 'eth5'\n",
    "args.test_set = 'eth'\n",
    "args.save_dir = './output/' + args.test_set + \"/\"\n",
    "args.seq_length = 20\n",
    "args.obs_length = 8\n",
    "args.neighbor_thred = 10\n",
    "args.batch_around_ped = 256\n",
    "if not os.path.exists(args.save_dir):\n",
    "    os.makedirs(args.save_dir)\n",
    "\n",
    "self = Object()\n",
    "self.args = args\n",
    "\n",
    "setname = 'train'"
   ]
  },
  {
   "cell_type": "code",
   "execution_count": 232,
   "metadata": {},
   "outputs": [],
   "source": [
    "def find_trajectory_fragment(self, trajectory, start_frame, seq_length, skip):\n",
    "    \"\"\"\n",
    "    Starting from a full trajectory, query a trajectory fragment of\n",
    "    length seq_length starting at start_frame. Replace with 0 if data\n",
    "    does not exists.\n",
    "\n",
    "    Parameters\n",
    "    ----------\n",
    "    trajectory : np.array\n",
    "        full trajectory of an agent. Shape: len_traj * [frame,x,y]\n",
    "        len_traj really depends on the considered agent, it can be\n",
    "        shorter or longer than seq_length.\n",
    "    start_frame : int\n",
    "        Starting frame of current trajectory fragment\n",
    "    seq_length : int\n",
    "        Desired length of the trajectory fragment\n",
    "    skip : int\n",
    "        Frame_delta between two time-steps\n",
    "\n",
    "    Returns\n",
    "    -------\n",
    "    return_trajec : np.array\n",
    "        The trajectory fragment of shape seq_length * (x,y)\n",
    "    iffull : bool\n",
    "        True if the trajectory fragment is full\n",
    "    ifexsitobs : bool\n",
    "        cneiui\n",
    "    \"\"\"\n",
    "    return_trajec = np.zeros((seq_length, 3))\n",
    "    start_n = np.where(trajectory[:, 0] == start_frame)\n",
    "\n",
    "    # TODO: Debug sdd\n",
    "    if self.args.dataset in ['eth5', 'lyft', 'ind_v1', 'ind_v2', 'ind_v3']:\n",
    "        end_frame = start_frame + seq_length * skip\n",
    "        end_n = np.where(trajectory[:, 0] == end_frame)\n",
    "    else:  # sdd\n",
    "        end_frame = start_frame + (seq_length - 1) * skip\n",
    "        end_n = np.where(trajectory[:, 0] == end_frame) + np.array([1])\n",
    "\n",
    "    iffull = False\n",
    "    ifexsitobs = False\n",
    "    # if no start and end\n",
    "    if start_n[0].shape[0] == 0 and end_n[0].shape[0] != 0:\n",
    "        start_n = 0\n",
    "        end_n = end_n[0][0]\n",
    "        # if only one point, return 0's\n",
    "        if end_n == 0:\n",
    "            return return_trajec, iffull, ifexsitobs\n",
    "    # if start and no end\n",
    "    elif start_n[0].shape[0] != 0 and end_n[0].shape[0] == 0:\n",
    "        start_n = start_n[0][0]\n",
    "        end_n = trajectory.shape[0]\n",
    "    # if no start and no end\n",
    "    elif start_n[0].shape[0] == 0 and end_n[0].shape[0] == 0:\n",
    "        start_n = 0\n",
    "        end_n = trajectory.shape[0]\n",
    "    # if start and end\n",
    "    else:\n",
    "        end_n = end_n[0][0]\n",
    "        start_n = start_n[0][0]\n",
    "\n",
    "    candidate_seq = trajectory[start_n:end_n]\n",
    "    offset_start = int((candidate_seq[0, 0] - start_frame) // skip)\n",
    "\n",
    "    if self.args.dataset in ['eth5', 'lyft', 'ind_v1', 'ind_v2', 'ind_v3']:\n",
    "        offset_end = self.args.seq_length + int(\n",
    "            (candidate_seq[-1, 0] - end_frame)//skip)\n",
    "    else:  # sdd\n",
    "        offset_end = self.args.seq_length + int(\n",
    "            (candidate_seq[-1, 0] - end_frame)//skip) - 1\n",
    "\n",
    "    return_trajec[offset_start:offset_end + 1, :3] = candidate_seq\n",
    "\n",
    "    if return_trajec[self.args.obs_length - 1, 1] != 0:\n",
    "        ifexsitobs = True\n",
    "    if offset_end - offset_start >= seq_length - 1:\n",
    "        iffull = True\n",
    "\n",
    "    return return_trajec, iffull, ifexsitobs"
   ]
  },
  {
   "cell_type": "code",
   "execution_count": 233,
   "metadata": {},
   "outputs": [
    {
     "name": "stdout",
     "output_type": "stream",
     "text": [
      "180\n",
      "380\n"
     ]
    }
   ],
   "source": [
    "seq_length = 20\n",
    "skip = 10\n",
    "start_frame = 180\n",
    "end_frame = start_frame + seq_length * skip\n",
    "print(start_frame)\n",
    "print(end_frame)\n",
    "trajectory = np.array([[skip*i,1,1] for i in range(22,52)])"
   ]
  },
  {
   "cell_type": "code",
   "execution_count": 234,
   "metadata": {},
   "outputs": [
    {
     "data": {
      "text/plain": [
       "array([[220,   1,   1],\n",
       "       [230,   1,   1],\n",
       "       [240,   1,   1],\n",
       "       [250,   1,   1],\n",
       "       [260,   1,   1],\n",
       "       [270,   1,   1],\n",
       "       [280,   1,   1],\n",
       "       [290,   1,   1],\n",
       "       [300,   1,   1],\n",
       "       [310,   1,   1],\n",
       "       [320,   1,   1],\n",
       "       [330,   1,   1],\n",
       "       [340,   1,   1],\n",
       "       [350,   1,   1],\n",
       "       [360,   1,   1],\n",
       "       [370,   1,   1],\n",
       "       [380,   1,   1],\n",
       "       [390,   1,   1],\n",
       "       [400,   1,   1],\n",
       "       [410,   1,   1],\n",
       "       [420,   1,   1],\n",
       "       [430,   1,   1],\n",
       "       [440,   1,   1],\n",
       "       [450,   1,   1],\n",
       "       [460,   1,   1],\n",
       "       [470,   1,   1],\n",
       "       [480,   1,   1],\n",
       "       [490,   1,   1],\n",
       "       [500,   1,   1],\n",
       "       [510,   1,   1]])"
      ]
     },
     "execution_count": 234,
     "metadata": {},
     "output_type": "execute_result"
    }
   ],
   "source": [
    "trajectory"
   ]
  },
  {
   "cell_type": "markdown",
   "metadata": {},
   "source": [
    "# Play"
   ]
  },
  {
   "cell_type": "code",
   "execution_count": 235,
   "metadata": {},
   "outputs": [
    {
     "name": "stdout",
     "output_type": "stream",
     "text": [
      "(array([], dtype=int64),)\n",
      "(array([16]),)\n",
      "no start and end\n",
      "start_n, end_n: 0 16\n",
      "offsets       : 4 19\n"
     ]
    }
   ],
   "source": [
    "\n",
    "return_trajec = np.zeros((seq_length, 3))\n",
    "start_n = np.where(trajectory[:, 0] == start_frame)\n",
    "\n",
    "print(start_n)\n",
    "\n",
    "\n",
    "end_n = np.where(trajectory[:, 0] == end_frame)\n",
    "\n",
    "print(end_n)\n",
    "\n",
    "iffull = False\n",
    "ifexsitobs = False\n",
    "# if no start and end\n",
    "if start_n[0].shape[0] == 0 and end_n[0].shape[0] != 0:\n",
    "    print(\"no start and end\")\n",
    "    start_n = 0\n",
    "    end_n = end_n[0][0]\n",
    "    ## if only one point, return 0's\n",
    "    ## CHECK THIS\n",
    "    if end_n == 0:\n",
    "        print('bubu1')\n",
    "        ### return return_trajec, iffull, ifexsitobs\n",
    "# if start and no end\n",
    "elif start_n[0].shape[0] != 0 and end_n[0].shape[0] == 0:\n",
    "    print(\"start and no end\")\n",
    "    start_n = start_n[0][0]\n",
    "    end_n = trajectory.shape[0]\n",
    "# if no start and no end\n",
    "elif start_n[0].shape[0] == 0 and end_n[0].shape[0] == 0:\n",
    "    print(\"no start and no end\")\n",
    "    # if trajectory fragment included in trajectory\n",
    "    if start_frame < trajectory[0, 0] and end_frame > trajectory[-1, 0]:\n",
    "        print(\"trajectory fragment included in trajectory\")\n",
    "        start_n = 0\n",
    "        end_n = trajectory.shape[0]\n",
    "    # if trajectory fragment excluded in trajectory\n",
    "    else:\n",
    "        print('bubu2')\n",
    "        ### return return_trajec, iffull, ifexsitobs\n",
    "# if start and end\n",
    "else:\n",
    "    print(\"start and end\")\n",
    "    end_n = end_n[0][0]\n",
    "    start_n = start_n[0][0]\n",
    "    \n",
    "print(\"start_n, end_n:\", start_n, end_n)\n",
    "\n",
    "candidate_seq = trajectory[start_n:end_n]\n",
    "offset_start = int((candidate_seq[0, 0] - start_frame) // skip)\n",
    "\n",
    "\n",
    "offset_end = self.args.seq_length + int((candidate_seq[-1, 0] - end_frame)//skip)\n",
    "\n",
    "print(\"offsets       :\", offset_start, offset_end)\n",
    "\n",
    "return_trajec[offset_start:offset_end + 1, :3] = candidate_seq\n",
    "\n",
    "# if return_trajec[self.args.obs_length - 1, 1] != 0:\n",
    "#     ifexsitobs = True\n",
    "# if offset_end - offset_start >= seq_length - 1:\n",
    "#     iffull = True\n"
   ]
  },
  {
   "cell_type": "code",
   "execution_count": 236,
   "metadata": {},
   "outputs": [
    {
     "data": {
      "text/plain": [
       "180"
      ]
     },
     "execution_count": 236,
     "metadata": {},
     "output_type": "execute_result"
    }
   ],
   "source": [
    "start_frame"
   ]
  },
  {
   "cell_type": "code",
   "execution_count": 237,
   "metadata": {},
   "outputs": [
    {
     "data": {
      "text/plain": [
       "array([[220,   1,   1],\n",
       "       [230,   1,   1],\n",
       "       [240,   1,   1],\n",
       "       [250,   1,   1],\n",
       "       [260,   1,   1],\n",
       "       [270,   1,   1],\n",
       "       [280,   1,   1],\n",
       "       [290,   1,   1],\n",
       "       [300,   1,   1],\n",
       "       [310,   1,   1],\n",
       "       [320,   1,   1],\n",
       "       [330,   1,   1],\n",
       "       [340,   1,   1],\n",
       "       [350,   1,   1],\n",
       "       [360,   1,   1],\n",
       "       [370,   1,   1],\n",
       "       [380,   1,   1],\n",
       "       [390,   1,   1],\n",
       "       [400,   1,   1],\n",
       "       [410,   1,   1],\n",
       "       [420,   1,   1],\n",
       "       [430,   1,   1],\n",
       "       [440,   1,   1],\n",
       "       [450,   1,   1],\n",
       "       [460,   1,   1],\n",
       "       [470,   1,   1],\n",
       "       [480,   1,   1],\n",
       "       [490,   1,   1],\n",
       "       [500,   1,   1],\n",
       "       [510,   1,   1]])"
      ]
     },
     "execution_count": 237,
     "metadata": {},
     "output_type": "execute_result"
    }
   ],
   "source": [
    "trajectory"
   ]
  },
  {
   "cell_type": "code",
   "execution_count": 238,
   "metadata": {},
   "outputs": [
    {
     "data": {
      "text/plain": [
       "array([[220,   1,   1],\n",
       "       [230,   1,   1],\n",
       "       [240,   1,   1],\n",
       "       [250,   1,   1],\n",
       "       [260,   1,   1],\n",
       "       [270,   1,   1],\n",
       "       [280,   1,   1],\n",
       "       [290,   1,   1],\n",
       "       [300,   1,   1],\n",
       "       [310,   1,   1],\n",
       "       [320,   1,   1],\n",
       "       [330,   1,   1],\n",
       "       [340,   1,   1],\n",
       "       [350,   1,   1],\n",
       "       [360,   1,   1],\n",
       "       [370,   1,   1]])"
      ]
     },
     "execution_count": 238,
     "metadata": {},
     "output_type": "execute_result"
    }
   ],
   "source": [
    "candidate_seq"
   ]
  },
  {
   "cell_type": "code",
   "execution_count": 239,
   "metadata": {},
   "outputs": [
    {
     "data": {
      "text/plain": [
       "array([[  0.,   0.,   0.],\n",
       "       [  0.,   0.,   0.],\n",
       "       [  0.,   0.,   0.],\n",
       "       [  0.,   0.,   0.],\n",
       "       [220.,   1.,   1.],\n",
       "       [230.,   1.,   1.],\n",
       "       [240.,   1.,   1.],\n",
       "       [250.,   1.,   1.],\n",
       "       [260.,   1.,   1.],\n",
       "       [270.,   1.,   1.],\n",
       "       [280.,   1.,   1.],\n",
       "       [290.,   1.,   1.],\n",
       "       [300.,   1.,   1.],\n",
       "       [310.,   1.,   1.],\n",
       "       [320.,   1.,   1.],\n",
       "       [330.,   1.,   1.],\n",
       "       [340.,   1.,   1.],\n",
       "       [350.,   1.,   1.],\n",
       "       [360.,   1.,   1.],\n",
       "       [370.,   1.,   1.]])"
      ]
     },
     "execution_count": 239,
     "metadata": {},
     "output_type": "execute_result"
    }
   ],
   "source": [
    "return_trajec"
   ]
  },
  {
   "cell_type": "code",
   "execution_count": 240,
   "metadata": {},
   "outputs": [
    {
     "data": {
      "text/plain": [
       "250.0"
      ]
     },
     "execution_count": 240,
     "metadata": {},
     "output_type": "execute_result"
    }
   ],
   "source": [
    "return_trajec[self.args.obs_length - 1, 0]\n",
    "    "
   ]
  },
  {
   "cell_type": "code",
   "execution_count": 241,
   "metadata": {},
   "outputs": [
    {
     "data": {
      "text/plain": [
       "8"
      ]
     },
     "execution_count": 241,
     "metadata": {},
     "output_type": "execute_result"
    }
   ],
   "source": [
    "self.args.obs_length"
   ]
  },
  {
   "cell_type": "code",
   "execution_count": 245,
   "metadata": {},
   "outputs": [
    {
     "data": {
      "text/plain": [
       "16"
      ]
     },
     "execution_count": 245,
     "metadata": {},
     "output_type": "execute_result"
    }
   ],
   "source": [
    "np.count_nonzero(return_trajec[:,0])"
   ]
  },
  {
   "cell_type": "code",
   "execution_count": null,
   "metadata": {},
   "outputs": [],
   "source": []
  }
 ],
 "metadata": {
  "kernelspec": {
   "display_name": "Python 3",
   "language": "python",
   "name": "python3"
  },
  "language_info": {
   "codemirror_mode": {
    "name": "ipython",
    "version": 3
   },
   "file_extension": ".py",
   "mimetype": "text/x-python",
   "name": "python",
   "nbconvert_exporter": "python",
   "pygments_lexer": "ipython3",
   "version": "3.8.5"
  }
 },
 "nbformat": 4,
 "nbformat_minor": 4
}
